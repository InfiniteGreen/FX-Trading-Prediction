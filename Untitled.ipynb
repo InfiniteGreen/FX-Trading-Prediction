{
 "cells": [
  {
   "cell_type": "code",
   "execution_count": 5,
   "metadata": {},
   "outputs": [
    {
     "name": "stdout",
     "output_type": "stream",
     "text": [
      "\n",
      "The following command must be run outside of the IPython shell:\n",
      "\n",
      "    $ pip install bs4\n",
      "\n",
      "The Python package manager (pip) can only be used from outside of IPython.\n",
      "Please reissue the `pip` command in a separate terminal or command prompt.\n",
      "\n",
      "See the Python documentation for more information on how to install packages:\n",
      "\n",
      "    https://docs.python.org/3/installing/\n"
     ]
    }
   ],
   "source": [
    "pip install bs4"
   ]
  },
  {
   "cell_type": "code",
   "execution_count": 1,
   "metadata": {},
   "outputs": [
    {
     "ename": "SyntaxError",
     "evalue": "invalid syntax (<ipython-input-1-763cbbd35be2>, line 1)",
     "output_type": "error",
     "traceback": [
      "\u001b[1;36m  File \u001b[1;32m\"<ipython-input-1-763cbbd35be2>\"\u001b[1;36m, line \u001b[1;32m1\u001b[0m\n\u001b[1;33m    import requests from bs4\u001b[0m\n\u001b[1;37m                       ^\u001b[0m\n\u001b[1;31mSyntaxError\u001b[0m\u001b[1;31m:\u001b[0m invalid syntax\n"
     ]
    }
   ],
   "source": [
    "import requests from bs4 \n",
    "import BeautifulSoup import csv \n",
    "import pandas as pd "
   ]
  },
  {
   "cell_type": "code",
   "execution_count": null,
   "metadata": {},
   "outputs": [],
   "source": [
    "names=[]\n",
    "prices=[]\n",
    "changes=[]\n",
    "percentChanges=[]\n",
    "marketCaps=[]\n",
    "totalVolumes=[]\n",
    "circulatingSupplys=[]\n",
    " \n",
    "CryptoCurrenciesUrl = \"https://in.finance.yahoo.com/currencies\"\n",
    "r= requests.get(CryptoCurrenciesUrl)\n",
    "data=r.text\n",
    "soup=BeautifulSoup(data)\n",
    " \n",
    "counter = 40\n",
    "for i in range(40, 404, 14):\n",
    "   for listing in soup.find_all('tr', attrs={'data-reactid':i}):\n",
    "      for name in listing.find_all('td', attrs={'data-reactid':i+3}):\n",
    "         names.append(name.text)\n",
    "      for price in listing.find_all('td', attrs={'data-reactid':i+4}):\n",
    "         prices.append(price.text)\n",
    "      for change in listing.find_all('td', attrs={'data-reactid':i+5}):\n",
    "         changes.append(change.text)\n",
    "      for percentChange in listing.find_all('td', attrs={'data-reactid':i+7}):\n",
    "         percentChanges.append(percentChange.text)\n",
    "pd.DataFrame({\"Names\": names, \"Prices\": prices, \"Change\": changes, \"% Change\": percentChanges})\n"
   ]
  },
  {
   "cell_type": "code",
   "execution_count": null,
   "metadata": {},
   "outputs": [],
   "source": []
  }
 ],
 "metadata": {
  "kernelspec": {
   "display_name": "Python 3",
   "language": "python",
   "name": "python3"
  },
  "language_info": {
   "codemirror_mode": {
    "name": "ipython",
    "version": 3
   },
   "file_extension": ".py",
   "mimetype": "text/x-python",
   "name": "python",
   "nbconvert_exporter": "python",
   "pygments_lexer": "ipython3",
   "version": "3.7.1"
  }
 },
 "nbformat": 4,
 "nbformat_minor": 2
}
